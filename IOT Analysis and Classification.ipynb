{
 "cells": [
  {
   "cell_type": "markdown",
   "id": "038b444d",
   "metadata": {},
   "source": [
    "Data Wrangling"
   ]
  },
  {
   "cell_type": "code",
   "execution_count": 64,
   "id": "62ddbc6d",
   "metadata": {},
   "outputs": [],
   "source": [
    "import numpy as np \n",
    "import pandas as pd\n",
    "import matplotlib.pyplot as plt\n",
    "import seaborn as sns\n",
    "from sklearn.model_selection import train_test_split\n",
    "from sklearn.ensemble import RandomForestClassifier\n",
    "from sklearn.metrics import accuracy_score"
   ]
  },
  {
   "cell_type": "code",
   "execution_count": 52,
   "id": "c63d5d67",
   "metadata": {},
   "outputs": [
    {
     "name": "stdout",
     "output_type": "stream",
     "text": [
      "<class 'pandas.core.frame.DataFrame'>\n",
      "RangeIndex: 97606 entries, 0 to 97605\n",
      "Data columns (total 5 columns):\n",
      " #   Column      Non-Null Count  Dtype \n",
      "---  ------      --------------  ----- \n",
      " 0   id          97606 non-null  object\n",
      " 1   room_id/id  97606 non-null  object\n",
      " 2   noted_date  97606 non-null  object\n",
      " 3   temp        97606 non-null  int64 \n",
      " 4   out/in      97606 non-null  object\n",
      "dtypes: int64(1), object(4)\n",
      "memory usage: 3.7+ MB\n",
      "(97606, 5)\n",
      "id            97605\n",
      "room_id/id        1\n",
      "noted_date    27920\n",
      "temp             31\n",
      "out/in            2\n",
      "dtype: int64\n"
     ]
    }
   ],
   "source": [
    "# Iot data set measuring temperture both inside and outside a room\n",
    "data = pd.read_csv('/Users/elenadubocanin/Downloads/IOT-temp.csv')\n",
    "\n",
    "# Checking for null values\n",
    "data.info()\n",
    "\n",
    "# Exploring properties of data set (shape, number of unique values)\n",
    "print(data.shape)\n",
    "uni = data[['id','room_id/id','noted_date','temp','out/in']].nunique()\n",
    "print(uni)"
   ]
  },
  {
   "cell_type": "code",
   "execution_count": 53,
   "id": "767c16a9",
   "metadata": {},
   "outputs": [
    {
     "data": {
      "text/html": [
       "<div>\n",
       "<style scoped>\n",
       "    .dataframe tbody tr th:only-of-type {\n",
       "        vertical-align: middle;\n",
       "    }\n",
       "\n",
       "    .dataframe tbody tr th {\n",
       "        vertical-align: top;\n",
       "    }\n",
       "\n",
       "    .dataframe thead th {\n",
       "        text-align: right;\n",
       "    }\n",
       "</style>\n",
       "<table border=\"1\" class=\"dataframe\">\n",
       "  <thead>\n",
       "    <tr style=\"text-align: right;\">\n",
       "      <th></th>\n",
       "      <th>id</th>\n",
       "      <th>room_id/id</th>\n",
       "      <th>temp</th>\n",
       "      <th>out/in</th>\n",
       "      <th>Date</th>\n",
       "      <th>Time</th>\n",
       "    </tr>\n",
       "  </thead>\n",
       "  <tbody>\n",
       "    <tr>\n",
       "      <th>0</th>\n",
       "      <td>__export__.temp_log_196134_bd201015</td>\n",
       "      <td>Room Admin</td>\n",
       "      <td>29</td>\n",
       "      <td>In</td>\n",
       "      <td>2018-08-12</td>\n",
       "      <td>09:30:00</td>\n",
       "    </tr>\n",
       "    <tr>\n",
       "      <th>1</th>\n",
       "      <td>__export__.temp_log_196131_7bca51bc</td>\n",
       "      <td>Room Admin</td>\n",
       "      <td>29</td>\n",
       "      <td>In</td>\n",
       "      <td>2018-08-12</td>\n",
       "      <td>09:30:00</td>\n",
       "    </tr>\n",
       "    <tr>\n",
       "      <th>2</th>\n",
       "      <td>__export__.temp_log_196127_522915e3</td>\n",
       "      <td>Room Admin</td>\n",
       "      <td>41</td>\n",
       "      <td>Out</td>\n",
       "      <td>2018-08-12</td>\n",
       "      <td>09:29:00</td>\n",
       "    </tr>\n",
       "    <tr>\n",
       "      <th>3</th>\n",
       "      <td>__export__.temp_log_196128_be0919cf</td>\n",
       "      <td>Room Admin</td>\n",
       "      <td>41</td>\n",
       "      <td>Out</td>\n",
       "      <td>2018-08-12</td>\n",
       "      <td>09:29:00</td>\n",
       "    </tr>\n",
       "    <tr>\n",
       "      <th>4</th>\n",
       "      <td>__export__.temp_log_196126_d30b72fb</td>\n",
       "      <td>Room Admin</td>\n",
       "      <td>31</td>\n",
       "      <td>In</td>\n",
       "      <td>2018-08-12</td>\n",
       "      <td>09:29:00</td>\n",
       "    </tr>\n",
       "    <tr>\n",
       "      <th>...</th>\n",
       "      <td>...</td>\n",
       "      <td>...</td>\n",
       "      <td>...</td>\n",
       "      <td>...</td>\n",
       "      <td>...</td>\n",
       "      <td>...</td>\n",
       "    </tr>\n",
       "    <tr>\n",
       "      <th>97601</th>\n",
       "      <td>__export__.temp_log_91076_7fbd08ca</td>\n",
       "      <td>Room Admin</td>\n",
       "      <td>31</td>\n",
       "      <td>In</td>\n",
       "      <td>2018-07-28</td>\n",
       "      <td>07:07:00</td>\n",
       "    </tr>\n",
       "    <tr>\n",
       "      <th>97602</th>\n",
       "      <td>__export__.temp_log_147733_62c03f31</td>\n",
       "      <td>Room Admin</td>\n",
       "      <td>31</td>\n",
       "      <td>In</td>\n",
       "      <td>2018-07-28</td>\n",
       "      <td>07:07:00</td>\n",
       "    </tr>\n",
       "    <tr>\n",
       "      <th>97603</th>\n",
       "      <td>__export__.temp_log_100386_84093a68</td>\n",
       "      <td>Room Admin</td>\n",
       "      <td>31</td>\n",
       "      <td>In</td>\n",
       "      <td>2018-07-28</td>\n",
       "      <td>07:06:00</td>\n",
       "    </tr>\n",
       "    <tr>\n",
       "      <th>97604</th>\n",
       "      <td>__export__.temp_log_123297_4d8e690b</td>\n",
       "      <td>Room Admin</td>\n",
       "      <td>31</td>\n",
       "      <td>In</td>\n",
       "      <td>2018-07-28</td>\n",
       "      <td>07:06:00</td>\n",
       "    </tr>\n",
       "    <tr>\n",
       "      <th>97605</th>\n",
       "      <td>__export__.temp_log_133741_32958703</td>\n",
       "      <td>Room Admin</td>\n",
       "      <td>31</td>\n",
       "      <td>In</td>\n",
       "      <td>2018-07-28</td>\n",
       "      <td>07:06:00</td>\n",
       "    </tr>\n",
       "  </tbody>\n",
       "</table>\n",
       "<p>97606 rows × 6 columns</p>\n",
       "</div>"
      ],
      "text/plain": [
       "                                        id  room_id/id  temp out/in  \\\n",
       "0      __export__.temp_log_196134_bd201015  Room Admin    29     In   \n",
       "1      __export__.temp_log_196131_7bca51bc  Room Admin    29     In   \n",
       "2      __export__.temp_log_196127_522915e3  Room Admin    41    Out   \n",
       "3      __export__.temp_log_196128_be0919cf  Room Admin    41    Out   \n",
       "4      __export__.temp_log_196126_d30b72fb  Room Admin    31     In   \n",
       "...                                    ...         ...   ...    ...   \n",
       "97601   __export__.temp_log_91076_7fbd08ca  Room Admin    31     In   \n",
       "97602  __export__.temp_log_147733_62c03f31  Room Admin    31     In   \n",
       "97603  __export__.temp_log_100386_84093a68  Room Admin    31     In   \n",
       "97604  __export__.temp_log_123297_4d8e690b  Room Admin    31     In   \n",
       "97605  __export__.temp_log_133741_32958703  Room Admin    31     In   \n",
       "\n",
       "             Date      Time  \n",
       "0      2018-08-12  09:30:00  \n",
       "1      2018-08-12  09:30:00  \n",
       "2      2018-08-12  09:29:00  \n",
       "3      2018-08-12  09:29:00  \n",
       "4      2018-08-12  09:29:00  \n",
       "...           ...       ...  \n",
       "97601  2018-07-28  07:07:00  \n",
       "97602  2018-07-28  07:07:00  \n",
       "97603  2018-07-28  07:06:00  \n",
       "97604  2018-07-28  07:06:00  \n",
       "97605  2018-07-28  07:06:00  \n",
       "\n",
       "[97606 rows x 6 columns]"
      ]
     },
     "execution_count": 53,
     "metadata": {},
     "output_type": "execute_result"
    }
   ],
   "source": [
    "data['Date'] = pd.to_datetime(data['noted_date']).dt.date\n",
    "data['Time'] = pd.to_datetime(data['noted_date']).dt.time\n",
    "data.drop('noted_date', axis =1)"
   ]
  },
  {
   "cell_type": "markdown",
   "id": "9a479f6d",
   "metadata": {},
   "source": [
    "Exploratory Data Analysis"
   ]
  },
  {
   "cell_type": "code",
   "execution_count": 54,
   "id": "0db6ac3e",
   "metadata": {},
   "outputs": [
    {
     "data": {
      "text/html": [
       "<div>\n",
       "<style scoped>\n",
       "    .dataframe tbody tr th:only-of-type {\n",
       "        vertical-align: middle;\n",
       "    }\n",
       "\n",
       "    .dataframe tbody tr th {\n",
       "        vertical-align: top;\n",
       "    }\n",
       "\n",
       "    .dataframe thead th {\n",
       "        text-align: right;\n",
       "    }\n",
       "</style>\n",
       "<table border=\"1\" class=\"dataframe\">\n",
       "  <thead>\n",
       "    <tr style=\"text-align: right;\">\n",
       "      <th></th>\n",
       "      <th>temp</th>\n",
       "    </tr>\n",
       "  </thead>\n",
       "  <tbody>\n",
       "    <tr>\n",
       "      <th>count</th>\n",
       "      <td>97606.000000</td>\n",
       "    </tr>\n",
       "    <tr>\n",
       "      <th>mean</th>\n",
       "      <td>35.053931</td>\n",
       "    </tr>\n",
       "    <tr>\n",
       "      <th>std</th>\n",
       "      <td>5.699825</td>\n",
       "    </tr>\n",
       "    <tr>\n",
       "      <th>min</th>\n",
       "      <td>21.000000</td>\n",
       "    </tr>\n",
       "    <tr>\n",
       "      <th>25%</th>\n",
       "      <td>30.000000</td>\n",
       "    </tr>\n",
       "    <tr>\n",
       "      <th>50%</th>\n",
       "      <td>35.000000</td>\n",
       "    </tr>\n",
       "    <tr>\n",
       "      <th>75%</th>\n",
       "      <td>40.000000</td>\n",
       "    </tr>\n",
       "    <tr>\n",
       "      <th>max</th>\n",
       "      <td>51.000000</td>\n",
       "    </tr>\n",
       "  </tbody>\n",
       "</table>\n",
       "</div>"
      ],
      "text/plain": [
       "               temp\n",
       "count  97606.000000\n",
       "mean      35.053931\n",
       "std        5.699825\n",
       "min       21.000000\n",
       "25%       30.000000\n",
       "50%       35.000000\n",
       "75%       40.000000\n",
       "max       51.000000"
      ]
     },
     "execution_count": 54,
     "metadata": {},
     "output_type": "execute_result"
    }
   ],
   "source": [
    "# Summary Stats for each column\n",
    "data.describe()"
   ]
  },
  {
   "cell_type": "code",
   "execution_count": 57,
   "id": "be7d26cf",
   "metadata": {},
   "outputs": [],
   "source": [
    "data['inside'] = [1 if x =='In' else 0 for x in data['out/in']]"
   ]
  },
  {
   "cell_type": "code",
   "execution_count": 56,
   "id": "92f49b36",
   "metadata": {},
   "outputs": [
    {
     "data": {
      "image/png": "[encoded data removed]",
      "text/plain": [
       "<Figure size 540x252 with 1 Axes>"
      ]
     },
     "metadata": {
      "needs_background": "light"
     },
     "output_type": "display_data"
    },
    {
     "name": "stdout",
     "output_type": "stream",
     "text": [
      "Total Inside Obs : 20345\n",
      "Total Outside Obs : 77261\n"
     ]
    }
   ],
   "source": [
    "# Creating comparitive plot of temperature inside and temperature outside\n",
    "x = data[data['inside']==0]['temp']\n",
    "y = data[data['inside']==1]['temp']\n",
    "\n",
    "plt.hist([x, y], label=['Outside', 'Inside'])\n",
    "plt.legend(loc='upper right')\n",
    "plt.show()\n",
    "\n",
    "print('Total Inside Obs :',len([i for i in data['inside'] if  i == 1]))\n",
    "print('Total Outside Obs :',len([i for i in data['inside'] if  i == 0]))"
   ]
  },
  {
   "cell_type": "code",
   "execution_count": 24,
   "id": "09c19ee8",
   "metadata": {},
   "outputs": [
    {
     "data": {
      "image/png": "[encoded data removed]",
      "text/plain": [
       "<Figure size 540x252 with 1 Axes>"
      ]
     },
     "metadata": {
      "needs_background": "light"
     },
     "output_type": "display_data"
    },
    {
     "name": "stdout",
     "output_type": "stream",
     "text": [
      "Inside Median :  31.0\n",
      "Inside Max :  41\n",
      "Inside Min :  21\n",
      "Outside Median :  37.0\n",
      "Outside Max :  51\n",
      "Outside Min :  24\n",
      "Overall Median :  35.0\n",
      "Total Max :  51\n",
      "Total Min :  21\n"
     ]
    }
   ],
   "source": [
    "# Boxplot\n",
    "plt.rcParams[\"figure.figsize\"] = [7.50, 3.50]\n",
    "plt.rcParams[\"figure.autolayout\"] = True\n",
    "boxy = pd.DataFrame({\"Inside\": y, \"Outside\": x, \n",
    "                     \"Both\": data['temp']})\n",
    "ax = boxy[['Inside', 'Outside', 'Both']].plot(kind='box', title='boxplot')\n",
    "plt.show()\n",
    "\n",
    "# Since there are outliers, median is a better measurement of average\n",
    "overall_median = np.median(data['temp'])\n",
    "inside_median = np.median(data[data['inside']==1]['temp'])\n",
    "outside_median = np.median(data[data['inside']==0]['temp'])\n",
    "\n",
    "# Looking at max and min temperatures along with median\n",
    "print(\"Inside Median : \", inside_median)\n",
    "print(\"Inside Max : \", np.max(data[data['inside']==1]['temp']))\n",
    "print(\"Inside Min : \", np.min(data[data['inside']==1]['temp']))\n",
    "print(\"Outside Median : \", outside_median)\n",
    "print(\"Outside Max : \", np.max(data[data['inside']==0]['temp']))\n",
    "print(\"Outside Min : \", np.min(data[data['inside']==0]['temp']))\n",
    "print(\"Overall Median : \", overall_median)\n",
    "print(\"Total Max : \", np.max(data['temp']))\n",
    "print(\"Total Min : \", np.min(data['temp']))"
   ]
  },
  {
   "cell_type": "code",
   "execution_count": 58,
   "id": "4087aa5d",
   "metadata": {},
   "outputs": [
    {
     "name": "stderr",
     "output_type": "stream",
     "text": [
      "/Users/elenadubocanin/opt/anaconda3/lib/python3.8/site-packages/seaborn/_decorators.py:36: FutureWarning: Pass the following variables as keyword args: x, y. From version 0.12, the only valid positional argument will be `data`, and passing other arguments without an explicit keyword will result in an error or misinterpretation.\n",
      "  warnings.warn(\n"
     ]
    },
    {
     "data": {
      "text/plain": [
       "<AxesSubplot:xlabel='Month', ylabel='temp'>"
      ]
     },
     "execution_count": 58,
     "metadata": {},
     "output_type": "execute_result"
    },
    {
     "data": {
      "image/png": "[encoded data removed]",
      "text/plain": [
       "<Figure size 540x252 with 1 Axes>"
      ]
     },
     "metadata": {
      "needs_background": "light"
     },
     "output_type": "display_data"
    }
   ],
   "source": [
    "# Looking in depth by smaller increments of time\n",
    "data['Date'] = pd.to_datetime(data['Date'])\n",
    "data['Year'] = data['Date'].dt.year\n",
    "data['Month'] = data['Date'].dt.month\n",
    "data['Day'] = data['Date'].dt.day\n",
    "\n",
    "sns.scatterplot(data['Month'],data['temp'],hue=data['inside'])"
   ]
  },
  {
   "cell_type": "code",
   "execution_count": 27,
   "id": "8eb91159",
   "metadata": {},
   "outputs": [
    {
     "name": "stdout",
     "output_type": "stream",
     "text": [
      "September Average Temperature: 34.865119408005384\n"
     ]
    },
    {
     "data": {
      "image/png": "[encoded data removed]",
      "text/plain": [
       "<Figure size 540x252 with 1 Axes>"
      ]
     },
     "metadata": {
      "needs_background": "light"
     },
     "output_type": "display_data"
    }
   ],
   "source": [
    "# Examining Month 9 since it has the highest temperatures and a wide range of temperatures\n",
    "sept = data[data['Month']==9]['temp']\n",
    "plt.hist(sept)\n",
    "plt.xlabel('Temp')\n",
    "plt.ylabel('Freq')\n",
    "\n",
    "sept_avg = np.mean(sept)\n",
    "print(\"September Average Temperature:\",sept_avg)"
   ]
  },
  {
   "cell_type": "markdown",
   "id": "47bb39a1",
   "metadata": {},
   "source": [
    "Random Forest Classifier for Inside or Outside Measurment of Temperature"
   ]
  },
  {
   "cell_type": "code",
   "execution_count": 59,
   "id": "580b1ba2",
   "metadata": {},
   "outputs": [
    {
     "data": {
      "text/html": [
       "<div>\n",
       "<style scoped>\n",
       "    .dataframe tbody tr th:only-of-type {\n",
       "        vertical-align: middle;\n",
       "    }\n",
       "\n",
       "    .dataframe tbody tr th {\n",
       "        vertical-align: top;\n",
       "    }\n",
       "\n",
       "    .dataframe thead th {\n",
       "        text-align: right;\n",
       "    }\n",
       "</style>\n",
       "<table border=\"1\" class=\"dataframe\">\n",
       "  <thead>\n",
       "    <tr style=\"text-align: right;\">\n",
       "      <th></th>\n",
       "      <th>id</th>\n",
       "      <th>room_id/id</th>\n",
       "      <th>noted_date</th>\n",
       "      <th>temp</th>\n",
       "      <th>out/in</th>\n",
       "      <th>Date</th>\n",
       "      <th>Time</th>\n",
       "      <th>inside</th>\n",
       "      <th>Year</th>\n",
       "      <th>Month</th>\n",
       "      <th>Day</th>\n",
       "    </tr>\n",
       "  </thead>\n",
       "  <tbody>\n",
       "    <tr>\n",
       "      <th>0</th>\n",
       "      <td>__export__.temp_log_196134_bd201015</td>\n",
       "      <td>Room Admin</td>\n",
       "      <td>08-12-2018 09:30</td>\n",
       "      <td>29</td>\n",
       "      <td>In</td>\n",
       "      <td>2018-08-12</td>\n",
       "      <td>09:30:00</td>\n",
       "      <td>1</td>\n",
       "      <td>2018</td>\n",
       "      <td>8</td>\n",
       "      <td>12</td>\n",
       "    </tr>\n",
       "    <tr>\n",
       "      <th>1</th>\n",
       "      <td>__export__.temp_log_196131_7bca51bc</td>\n",
       "      <td>Room Admin</td>\n",
       "      <td>08-12-2018 09:30</td>\n",
       "      <td>29</td>\n",
       "      <td>In</td>\n",
       "      <td>2018-08-12</td>\n",
       "      <td>09:30:00</td>\n",
       "      <td>1</td>\n",
       "      <td>2018</td>\n",
       "      <td>8</td>\n",
       "      <td>12</td>\n",
       "    </tr>\n",
       "    <tr>\n",
       "      <th>2</th>\n",
       "      <td>__export__.temp_log_196127_522915e3</td>\n",
       "      <td>Room Admin</td>\n",
       "      <td>08-12-2018 09:29</td>\n",
       "      <td>41</td>\n",
       "      <td>Out</td>\n",
       "      <td>2018-08-12</td>\n",
       "      <td>09:29:00</td>\n",
       "      <td>0</td>\n",
       "      <td>2018</td>\n",
       "      <td>8</td>\n",
       "      <td>12</td>\n",
       "    </tr>\n",
       "    <tr>\n",
       "      <th>3</th>\n",
       "      <td>__export__.temp_log_196128_be0919cf</td>\n",
       "      <td>Room Admin</td>\n",
       "      <td>08-12-2018 09:29</td>\n",
       "      <td>41</td>\n",
       "      <td>Out</td>\n",
       "      <td>2018-08-12</td>\n",
       "      <td>09:29:00</td>\n",
       "      <td>0</td>\n",
       "      <td>2018</td>\n",
       "      <td>8</td>\n",
       "      <td>12</td>\n",
       "    </tr>\n",
       "    <tr>\n",
       "      <th>4</th>\n",
       "      <td>__export__.temp_log_196126_d30b72fb</td>\n",
       "      <td>Room Admin</td>\n",
       "      <td>08-12-2018 09:29</td>\n",
       "      <td>31</td>\n",
       "      <td>In</td>\n",
       "      <td>2018-08-12</td>\n",
       "      <td>09:29:00</td>\n",
       "      <td>1</td>\n",
       "      <td>2018</td>\n",
       "      <td>8</td>\n",
       "      <td>12</td>\n",
       "    </tr>\n",
       "    <tr>\n",
       "      <th>...</th>\n",
       "      <td>...</td>\n",
       "      <td>...</td>\n",
       "      <td>...</td>\n",
       "      <td>...</td>\n",
       "      <td>...</td>\n",
       "      <td>...</td>\n",
       "      <td>...</td>\n",
       "      <td>...</td>\n",
       "      <td>...</td>\n",
       "      <td>...</td>\n",
       "      <td>...</td>\n",
       "    </tr>\n",
       "    <tr>\n",
       "      <th>97601</th>\n",
       "      <td>__export__.temp_log_91076_7fbd08ca</td>\n",
       "      <td>Room Admin</td>\n",
       "      <td>28-07-2018 07:07</td>\n",
       "      <td>31</td>\n",
       "      <td>In</td>\n",
       "      <td>2018-07-28</td>\n",
       "      <td>07:07:00</td>\n",
       "      <td>1</td>\n",
       "      <td>2018</td>\n",
       "      <td>7</td>\n",
       "      <td>28</td>\n",
       "    </tr>\n",
       "    <tr>\n",
       "      <th>97602</th>\n",
       "      <td>__export__.temp_log_147733_62c03f31</td>\n",
       "      <td>Room Admin</td>\n",
       "      <td>28-07-2018 07:07</td>\n",
       "      <td>31</td>\n",
       "      <td>In</td>\n",
       "      <td>2018-07-28</td>\n",
       "      <td>07:07:00</td>\n",
       "      <td>1</td>\n",
       "      <td>2018</td>\n",
       "      <td>7</td>\n",
       "      <td>28</td>\n",
       "    </tr>\n",
       "    <tr>\n",
       "      <th>97603</th>\n",
       "      <td>__export__.temp_log_100386_84093a68</td>\n",
       "      <td>Room Admin</td>\n",
       "      <td>28-07-2018 07:06</td>\n",
       "      <td>31</td>\n",
       "      <td>In</td>\n",
       "      <td>2018-07-28</td>\n",
       "      <td>07:06:00</td>\n",
       "      <td>1</td>\n",
       "      <td>2018</td>\n",
       "      <td>7</td>\n",
       "      <td>28</td>\n",
       "    </tr>\n",
       "    <tr>\n",
       "      <th>97604</th>\n",
       "      <td>__export__.temp_log_123297_4d8e690b</td>\n",
       "      <td>Room Admin</td>\n",
       "      <td>28-07-2018 07:06</td>\n",
       "      <td>31</td>\n",
       "      <td>In</td>\n",
       "      <td>2018-07-28</td>\n",
       "      <td>07:06:00</td>\n",
       "      <td>1</td>\n",
       "      <td>2018</td>\n",
       "      <td>7</td>\n",
       "      <td>28</td>\n",
       "    </tr>\n",
       "    <tr>\n",
       "      <th>97605</th>\n",
       "      <td>__export__.temp_log_133741_32958703</td>\n",
       "      <td>Room Admin</td>\n",
       "      <td>28-07-2018 07:06</td>\n",
       "      <td>31</td>\n",
       "      <td>In</td>\n",
       "      <td>2018-07-28</td>\n",
       "      <td>07:06:00</td>\n",
       "      <td>1</td>\n",
       "      <td>2018</td>\n",
       "      <td>7</td>\n",
       "      <td>28</td>\n",
       "    </tr>\n",
       "  </tbody>\n",
       "</table>\n",
       "<p>97606 rows × 11 columns</p>\n",
       "</div>"
      ],
      "text/plain": [
       "                                        id  room_id/id        noted_date  \\\n",
       "0      __export__.temp_log_196134_bd201015  Room Admin  08-12-2018 09:30   \n",
       "1      __export__.temp_log_196131_7bca51bc  Room Admin  08-12-2018 09:30   \n",
       "2      __export__.temp_log_196127_522915e3  Room Admin  08-12-2018 09:29   \n",
       "3      __export__.temp_log_196128_be0919cf  Room Admin  08-12-2018 09:29   \n",
       "4      __export__.temp_log_196126_d30b72fb  Room Admin  08-12-2018 09:29   \n",
       "...                                    ...         ...               ...   \n",
       "97601   __export__.temp_log_91076_7fbd08ca  Room Admin  28-07-2018 07:07   \n",
       "97602  __export__.temp_log_147733_62c03f31  Room Admin  28-07-2018 07:07   \n",
       "97603  __export__.temp_log_100386_84093a68  Room Admin  28-07-2018 07:06   \n",
       "97604  __export__.temp_log_123297_4d8e690b  Room Admin  28-07-2018 07:06   \n",
       "97605  __export__.temp_log_133741_32958703  Room Admin  28-07-2018 07:06   \n",
       "\n",
       "       temp out/in       Date      Time  inside  Year  Month  Day  \n",
       "0        29     In 2018-08-12  09:30:00       1  2018      8   12  \n",
       "1        29     In 2018-08-12  09:30:00       1  2018      8   12  \n",
       "2        41    Out 2018-08-12  09:29:00       0  2018      8   12  \n",
       "3        41    Out 2018-08-12  09:29:00       0  2018      8   12  \n",
       "4        31     In 2018-08-12  09:29:00       1  2018      8   12  \n",
       "...     ...    ...        ...       ...     ...   ...    ...  ...  \n",
       "97601    31     In 2018-07-28  07:07:00       1  2018      7   28  \n",
       "97602    31     In 2018-07-28  07:07:00       1  2018      7   28  \n",
       "97603    31     In 2018-07-28  07:06:00       1  2018      7   28  \n",
       "97604    31     In 2018-07-28  07:06:00       1  2018      7   28  \n",
       "97605    31     In 2018-07-28  07:06:00       1  2018      7   28  \n",
       "\n",
       "[97606 rows x 11 columns]"
      ]
     },
     "execution_count": 59,
     "metadata": {},
     "output_type": "execute_result"
    }
   ],
   "source": [
    "data"
   ]
  },
  {
   "cell_type": "code",
   "execution_count": 84,
   "id": "8a2768df",
   "metadata": {},
   "outputs": [
    {
     "name": "stdout",
     "output_type": "stream",
     "text": [
      "0.9136358979612744\n"
     ]
    }
   ],
   "source": [
    "# Using classifier for measuring temperature on whether it is inside of outside\n",
    "X = data[['temp','Month','Day']]\n",
    "y = data['inside']\n",
    "\n",
    "# Creating traing and test splits\n",
    "X_train, X_test, y_train, y_test = train_test_split(X, y, test_size=0.1,\n",
    "                                                    random_state=0)\n",
    "\n",
    "# Random Forest Classifier\n",
    "rf = RandomForestClassifier(n_estimators=300, max_depth=12,\n",
    "                                 bootstrap=True, n_jobs=3,\n",
    "                                 random_state=0, oob_score=True)\n",
    "rf.fit(X_train, y_train)\n",
    "y_pred = rf.predict(X_test)\n",
    "score = accuracy_score(y_test, y_pred)\n",
    "print(score)"
   ]
  },
  {
   "cell_type": "markdown",
   "id": "2ce797f2",
   "metadata": {},
   "source": [
    "The original parameters of the model which was 200 trees, a max depth of 3, and 1 job only gave the model an accuracy score of 82.7%. Although the increase of trees and jobs helped improve the model, increasing max depth from 3 to 12 improved the accuracy score by almost 10 percent. The test/train split also increased from 0.25 to 0.1 in order to help increase model accuracy. Since there is a large amount of overlap between indoor and outdoor measurments of temperature, the accuracy score suggests that this classifier is a good fit for this data. "
   ]
  },
  {
   "cell_type": "code",
   "execution_count": 87,
   "id": "0ab5c14d",
   "metadata": {},
   "outputs": [
    {
     "data": {
      "image/png": "[encoded data removed]",
      "text/plain": [
       "<Figure size 540x252 with 1 Axes>"
      ]
     },
     "metadata": {
      "needs_background": "light"
     },
     "output_type": "display_data"
    }
   ],
   "source": [
    "# Importance based on each variable\n",
    "var_imp = pd.Series(rf.feature_importances_, \n",
    "                        index=['temp','Month','Day']).sort_values(ascending=False)\n",
    "\n",
    "sns.barplot(x=var_imp, y=var_imp.index)\n",
    "plt.xlabel('Variable Importance Score')\n",
    "plt.ylabel('Variables')\n",
    "plt.title(\"Visualizing Important Variables\", pad=15, size=14)\n",
    "plt.savefig('barplot.png')"
   ]
  }
 ],
 "metadata": {
  "kernelspec": {
   "display_name": "Python 3 (ipykernel)",
   "language": "python",
   "name": "python3"
  },
  "language_info": {
   "codemirror_mode": {
    "name": "ipython",
    "version": 3
   },
   "file_extension": ".py",
   "mimetype": "text/x-python",
   "name": "python",
   "nbconvert_exporter": "python",
   "pygments_lexer": "ipython3",
   "version": "3.8.12"
  }
 },
 "nbformat": 4,
 "nbformat_minor": 5
}
