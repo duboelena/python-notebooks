{
 "cells": [
  {
   "cell_type": "code",
   "execution_count": 10,
   "id": "7c640cea",
   "metadata": {},
   "outputs": [
    {
     "name": "stderr",
     "output_type": "stream",
     "text": [
      "/Users/elenadubocanin/opt/anaconda3/lib/python3.8/site-packages/scipy/__init__.py:146: UserWarning: A NumPy version >=1.16.5 and <1.23.0 is required for this version of SciPy (detected version 1.24.3\n",
      "  warnings.warn(f\"A NumPy version >={np_minversion} and <{np_maxversion}\"\n"
     ]
    }
   ],
   "source": [
    "import pandas as pd\n",
    "import numpy as np\n",
    "import scipy as stats\n",
    "import math as math"
   ]
  },
  {
   "cell_type": "code",
   "execution_count": 3,
   "id": "32cc4878",
   "metadata": {},
   "outputs": [],
   "source": [
    "# Write a function to remove the duplicates from a list\n",
    "temp = [1, 2, 3, 4, 2, 3, 5, 6, 5, 8]\n",
    "\n",
    "# Using *set()\n",
    "nodups = [*set(temp)]\n",
    "\n",
    "# Using list comprehension\n",
    "nodups2 = []\n",
    "[nodups2.append(x) for x in temp if x not in nodups2]\n",
    "\n",
    "# Using set()\n",
    "nodups3 = list(set(temp))"
   ]
  },
  {
   "cell_type": "code",
   "execution_count": 4,
   "id": "30605d36",
   "metadata": {},
   "outputs": [
    {
     "data": {
      "text/plain": [
       "'Not a palindrome'"
      ]
     },
     "execution_count": 4,
     "metadata": {},
     "output_type": "execute_result"
    }
   ],
   "source": [
    "# Write a function to check if a string is a palindrome\n",
    "tester = 'abbbcsfscbbba'\n",
    "tester2 = 'yellew'\n",
    "def palindrome(string):\n",
    "    if string==string[::-1]:\n",
    "        return \"This string is a palindrome\"\n",
    "    else:\n",
    "        return \"Not a palindrome\"\n",
    "palindrome(tester) # output \"this string is a palindrome\"\n",
    "palindrome(tester2) # output \"not a palindrome\""
   ]
  },
  {
   "cell_type": "code",
   "execution_count": 5,
   "id": "0fa09784",
   "metadata": {},
   "outputs": [
    {
     "data": {
      "text/plain": [
       "5"
      ]
     },
     "execution_count": 5,
     "metadata": {},
     "output_type": "execute_result"
    }
   ],
   "source": [
    "# Find the number in an array that repeats twice \n",
    "# when all other numbers are repeated thrice\n",
    "array = [1,1,1,3,3,3,5,5,6,6,6,7,7,7]\n",
    "randArray = [1,2,5,5,7,2,6,7,1,7,1,6,2,5]\n",
    "def double(arr):\n",
    "    for i in arr:\n",
    "        if arr.count(arr[i]) < 3:\n",
    "            return arr[i]\n",
    "        \n",
    "double(randArray) # output is 6\n",
    "double(array) # output is 5"
   ]
  },
  {
   "cell_type": "code",
   "execution_count": 6,
   "id": "acc67d07",
   "metadata": {},
   "outputs": [],
   "source": [
    "# Identify the first repeating element in an unsorted array\n",
    "test1 = [1, 2, 3, 5, 6, 7, 7, 8, 9, 10]\n",
    "test2 = [1,4,6,7,9,3,4]\n",
    "def repeat(arr):\n",
    "    for i in arr:\n",
    "        if arr.count(arr[i]) > 1:\n",
    "            return arr[i]"
   ]
  },
  {
   "cell_type": "code",
   "execution_count": 7,
   "id": "d837a20d",
   "metadata": {},
   "outputs": [
    {
     "data": {
      "text/plain": [
       "'hello'"
      ]
     },
     "execution_count": 7,
     "metadata": {},
     "output_type": "execute_result"
    }
   ],
   "source": [
    "# Write a function that performs like so: if a number can be divided\n",
    "# by x, print \"hello\"; if a number can be divided by y, print \"world\";\n",
    "# if a number can be divided by x*y print \"helloworld\"\n",
    "def hello_world(num, x, y):\n",
    "    if num % x == 0:\n",
    "        res = 'hello'\n",
    "    if num % y == 0:\n",
    "        res = 'world'\n",
    "    if num % (x*y) == 0:\n",
    "        res = 'helloworld'\n",
    "    return res\n",
    "hello_world(16, 4, 5)"
   ]
  },
  {
   "cell_type": "code",
   "execution_count": 8,
   "id": "1f1143c9",
   "metadata": {},
   "outputs": [
    {
     "name": "stdout",
     "output_type": "stream",
     "text": [
      "7644\n"
     ]
    }
   ],
   "source": [
    "# Build a function that returns the max possible sum possible for\n",
    "# two elements in a list \n",
    "numList = [34, 5, 6, 78, 98, 54, 33, 12]\n",
    "def max_sum(nums):\n",
    "    nums.sort()\n",
    "    maxSum = nums[-1] * nums[-2]\n",
    "    print(maxSum)\n",
    "\n",
    "max_sum(numList)"
   ]
  },
  {
   "cell_type": "code",
   "execution_count": 11,
   "id": "175c83c4",
   "metadata": {},
   "outputs": [
    {
     "name": "stdout",
     "output_type": "stream",
     "text": [
      "4\n",
      "2.0\n"
     ]
    }
   ],
   "source": [
    "# Write an function to calculate the square root of a number\n",
    "num = int(input())\n",
    "res = math.sqrt(num)\n",
    "print(res)"
   ]
  },
  {
   "cell_type": "code",
   "execution_count": 12,
   "id": "3891d73e",
   "metadata": {},
   "outputs": [],
   "source": [
    "# Create a python function to determine if a string contains 'as'\n",
    "substring = 'as'\n",
    "def has_as(string):\n",
    "    if substring in string:\n",
    "        return \"String contains as\"\n",
    "    else:\n",
    "        return \"String does not contain as\""
   ]
  }
 ],
 "metadata": {
  "kernelspec": {
   "display_name": "Python 3 (ipykernel)",
   "language": "python",
   "name": "python3"
  },
  "language_info": {
   "codemirror_mode": {
    "name": "ipython",
    "version": 3
   },
   "file_extension": ".py",
   "mimetype": "text/x-python",
   "name": "python",
   "nbconvert_exporter": "python",
   "pygments_lexer": "ipython3",
   "version": "3.8.12"
  }
 },
 "nbformat": 4,
 "nbformat_minor": 5
}
